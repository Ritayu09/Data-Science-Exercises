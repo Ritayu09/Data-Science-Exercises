{
 "cells": [
  {
   "cell_type": "markdown",
   "metadata": {},
   "source": [
    "## DATA MINING PROJECT"
   ]
  },
  {
   "cell_type": "markdown",
   "metadata": {},
   "source": [
    "### PART 1\n"
   ]
  },
  {
   "cell_type": "code",
   "execution_count": 1,
   "metadata": {},
   "outputs": [],
   "source": [
    "# required libraries - pandas, numpy and scikit-learn (sklearn)\n",
    "\n",
    "import pandas as pd\n",
    "import numpy as np\n",
    "from sklearn.preprocessing import StandardScaler\n",
    "from sklearn.model_selection import train_test_split\n",
    "from sklearn.ensemble import RandomForestClassifier\n",
    "from sklearn.metrics import confusion_matrix\n",
    "from sklearn.model_selection import GridSearchCV\n",
    "\n",
    "import warnings\n",
    "warnings.filterwarnings(\"ignore\")\n"
   ]
  },
  {
   "cell_type": "code",
   "execution_count": 2,
   "metadata": {},
   "outputs": [],
   "source": [
    "# loading prepared data\n",
    "data = pd.read_excel('diseases_hormonalmeasurements - Prepared Data.xlsx', sheet_name = 'Data')"
   ]
  },
  {
   "cell_type": "code",
   "execution_count": 3,
   "metadata": {},
   "outputs": [
    {
     "data": {
      "text/html": [
       "<div>\n",
       "<style scoped>\n",
       "    .dataframe tbody tr th:only-of-type {\n",
       "        vertical-align: middle;\n",
       "    }\n",
       "\n",
       "    .dataframe tbody tr th {\n",
       "        vertical-align: top;\n",
       "    }\n",
       "\n",
       "    .dataframe thead th {\n",
       "        text-align: right;\n",
       "    }\n",
       "</style>\n",
       "<table border=\"1\" class=\"dataframe\">\n",
       "  <thead>\n",
       "    <tr style=\"text-align: right;\">\n",
       "      <th></th>\n",
       "      <th>PatientID</th>\n",
       "      <th>Gender</th>\n",
       "      <th>aldosterone</th>\n",
       "      <th>cortisol</th>\n",
       "      <th>dheas</th>\n",
       "      <th>corticosterone</th>\n",
       "      <th>11-Deoxycortisol</th>\n",
       "      <th>androstenedion</th>\n",
       "      <th>estrone</th>\n",
       "      <th>estradiol</th>\n",
       "      <th>...</th>\n",
       "      <th>dht</th>\n",
       "      <th>progesterone</th>\n",
       "      <th>androsterone</th>\n",
       "      <th>pregnenolone</th>\n",
       "      <th>cortisone</th>\n",
       "      <th>21-Deoxycortisol</th>\n",
       "      <th>11OHA4</th>\n",
       "      <th>11OHT</th>\n",
       "      <th>Disease</th>\n",
       "      <th>Sick</th>\n",
       "    </tr>\n",
       "  </thead>\n",
       "  <tbody>\n",
       "    <tr>\n",
       "      <td>0</td>\n",
       "      <td>20001</td>\n",
       "      <td>F</td>\n",
       "      <td>0.275</td>\n",
       "      <td>11.508</td>\n",
       "      <td>8.458</td>\n",
       "      <td>1.075</td>\n",
       "      <td>0.007</td>\n",
       "      <td>0.191</td>\n",
       "      <td>NaN</td>\n",
       "      <td>NaN</td>\n",
       "      <td>...</td>\n",
       "      <td>NaN</td>\n",
       "      <td>0.094</td>\n",
       "      <td>0.905</td>\n",
       "      <td>0.000</td>\n",
       "      <td>NaN</td>\n",
       "      <td>NaN</td>\n",
       "      <td>NaN</td>\n",
       "      <td>NaN</td>\n",
       "      <td>21OHD-C Disease</td>\n",
       "      <td>Yes</td>\n",
       "    </tr>\n",
       "    <tr>\n",
       "      <td>1</td>\n",
       "      <td>20002</td>\n",
       "      <td>M</td>\n",
       "      <td>0.015</td>\n",
       "      <td>0.459</td>\n",
       "      <td>0.375</td>\n",
       "      <td>0.044</td>\n",
       "      <td>0.016</td>\n",
       "      <td>0.106</td>\n",
       "      <td>NaN</td>\n",
       "      <td>NaN</td>\n",
       "      <td>...</td>\n",
       "      <td>NaN</td>\n",
       "      <td>1.891</td>\n",
       "      <td>0.669</td>\n",
       "      <td>0.067</td>\n",
       "      <td>NaN</td>\n",
       "      <td>NaN</td>\n",
       "      <td>NaN</td>\n",
       "      <td>NaN</td>\n",
       "      <td>21OHD-C Disease</td>\n",
       "      <td>Yes</td>\n",
       "    </tr>\n",
       "    <tr>\n",
       "      <td>2</td>\n",
       "      <td>20003</td>\n",
       "      <td>F</td>\n",
       "      <td>0.633</td>\n",
       "      <td>4.398</td>\n",
       "      <td>93.912</td>\n",
       "      <td>14.022</td>\n",
       "      <td>0.433</td>\n",
       "      <td>1.004</td>\n",
       "      <td>NaN</td>\n",
       "      <td>NaN</td>\n",
       "      <td>...</td>\n",
       "      <td>NaN</td>\n",
       "      <td>22.790</td>\n",
       "      <td>0.035</td>\n",
       "      <td>1.188</td>\n",
       "      <td>NaN</td>\n",
       "      <td>NaN</td>\n",
       "      <td>NaN</td>\n",
       "      <td>NaN</td>\n",
       "      <td>21OHD-C Disease</td>\n",
       "      <td>Yes</td>\n",
       "    </tr>\n",
       "    <tr>\n",
       "      <td>3</td>\n",
       "      <td>20004</td>\n",
       "      <td>F</td>\n",
       "      <td>0.030</td>\n",
       "      <td>19.652</td>\n",
       "      <td>172.925</td>\n",
       "      <td>1.123</td>\n",
       "      <td>0.125</td>\n",
       "      <td>0.644</td>\n",
       "      <td>NaN</td>\n",
       "      <td>NaN</td>\n",
       "      <td>...</td>\n",
       "      <td>NaN</td>\n",
       "      <td>3.613</td>\n",
       "      <td>1.731</td>\n",
       "      <td>2.613</td>\n",
       "      <td>NaN</td>\n",
       "      <td>NaN</td>\n",
       "      <td>NaN</td>\n",
       "      <td>NaN</td>\n",
       "      <td>21OHD-C Disease</td>\n",
       "      <td>Yes</td>\n",
       "    </tr>\n",
       "    <tr>\n",
       "      <td>4</td>\n",
       "      <td>20005</td>\n",
       "      <td>F</td>\n",
       "      <td>0.059</td>\n",
       "      <td>3.663</td>\n",
       "      <td>30.385</td>\n",
       "      <td>0.776</td>\n",
       "      <td>0.154</td>\n",
       "      <td>1.128</td>\n",
       "      <td>NaN</td>\n",
       "      <td>NaN</td>\n",
       "      <td>...</td>\n",
       "      <td>NaN</td>\n",
       "      <td>0.821</td>\n",
       "      <td>11.202</td>\n",
       "      <td>0.851</td>\n",
       "      <td>NaN</td>\n",
       "      <td>NaN</td>\n",
       "      <td>NaN</td>\n",
       "      <td>NaN</td>\n",
       "      <td>21OHD-C Disease</td>\n",
       "      <td>Yes</td>\n",
       "    </tr>\n",
       "    <tr>\n",
       "      <td>5</td>\n",
       "      <td>20006</td>\n",
       "      <td>F</td>\n",
       "      <td>0.055</td>\n",
       "      <td>4.267</td>\n",
       "      <td>13.123</td>\n",
       "      <td>0.458</td>\n",
       "      <td>0.084</td>\n",
       "      <td>0.563</td>\n",
       "      <td>NaN</td>\n",
       "      <td>NaN</td>\n",
       "      <td>...</td>\n",
       "      <td>NaN</td>\n",
       "      <td>0.285</td>\n",
       "      <td>2.272</td>\n",
       "      <td>0.244</td>\n",
       "      <td>NaN</td>\n",
       "      <td>NaN</td>\n",
       "      <td>NaN</td>\n",
       "      <td>NaN</td>\n",
       "      <td>21OHD-C Disease</td>\n",
       "      <td>Yes</td>\n",
       "    </tr>\n",
       "    <tr>\n",
       "      <td>6</td>\n",
       "      <td>20007</td>\n",
       "      <td>M</td>\n",
       "      <td>0.132</td>\n",
       "      <td>5.243</td>\n",
       "      <td>5.773</td>\n",
       "      <td>47.685</td>\n",
       "      <td>0.270</td>\n",
       "      <td>0.434</td>\n",
       "      <td>NaN</td>\n",
       "      <td>NaN</td>\n",
       "      <td>...</td>\n",
       "      <td>NaN</td>\n",
       "      <td>8.264</td>\n",
       "      <td>0.228</td>\n",
       "      <td>7.185</td>\n",
       "      <td>NaN</td>\n",
       "      <td>NaN</td>\n",
       "      <td>NaN</td>\n",
       "      <td>NaN</td>\n",
       "      <td>21OHD-C Disease</td>\n",
       "      <td>Yes</td>\n",
       "    </tr>\n",
       "    <tr>\n",
       "      <td>7</td>\n",
       "      <td>20008</td>\n",
       "      <td>F</td>\n",
       "      <td>0.172</td>\n",
       "      <td>3.228</td>\n",
       "      <td>53.745</td>\n",
       "      <td>1.347</td>\n",
       "      <td>0.070</td>\n",
       "      <td>1.894</td>\n",
       "      <td>NaN</td>\n",
       "      <td>NaN</td>\n",
       "      <td>...</td>\n",
       "      <td>NaN</td>\n",
       "      <td>0.828</td>\n",
       "      <td>3.991</td>\n",
       "      <td>0.297</td>\n",
       "      <td>NaN</td>\n",
       "      <td>NaN</td>\n",
       "      <td>NaN</td>\n",
       "      <td>NaN</td>\n",
       "      <td>21OHD-C Disease</td>\n",
       "      <td>Yes</td>\n",
       "    </tr>\n",
       "    <tr>\n",
       "      <td>8</td>\n",
       "      <td>20009</td>\n",
       "      <td>F</td>\n",
       "      <td>0.894</td>\n",
       "      <td>8.769</td>\n",
       "      <td>189.604</td>\n",
       "      <td>0.891</td>\n",
       "      <td>0.617</td>\n",
       "      <td>1.395</td>\n",
       "      <td>NaN</td>\n",
       "      <td>NaN</td>\n",
       "      <td>...</td>\n",
       "      <td>NaN</td>\n",
       "      <td>1.804</td>\n",
       "      <td>5.113</td>\n",
       "      <td>1.645</td>\n",
       "      <td>NaN</td>\n",
       "      <td>NaN</td>\n",
       "      <td>NaN</td>\n",
       "      <td>NaN</td>\n",
       "      <td>21OHD-C Disease</td>\n",
       "      <td>Yes</td>\n",
       "    </tr>\n",
       "    <tr>\n",
       "      <td>9</td>\n",
       "      <td>20010</td>\n",
       "      <td>F</td>\n",
       "      <td>0.093</td>\n",
       "      <td>18.104</td>\n",
       "      <td>3.241</td>\n",
       "      <td>1.466</td>\n",
       "      <td>0.036</td>\n",
       "      <td>0.132</td>\n",
       "      <td>NaN</td>\n",
       "      <td>NaN</td>\n",
       "      <td>...</td>\n",
       "      <td>NaN</td>\n",
       "      <td>0.173</td>\n",
       "      <td>0.662</td>\n",
       "      <td>0.658</td>\n",
       "      <td>NaN</td>\n",
       "      <td>NaN</td>\n",
       "      <td>NaN</td>\n",
       "      <td>NaN</td>\n",
       "      <td>21OHD-C Disease</td>\n",
       "      <td>Yes</td>\n",
       "    </tr>\n",
       "  </tbody>\n",
       "</table>\n",
       "<p>10 rows × 25 columns</p>\n",
       "</div>"
      ],
      "text/plain": [
       "   PatientID Gender  aldosterone  cortisol    dheas  corticosterone  \\\n",
       "0      20001      F        0.275    11.508    8.458           1.075   \n",
       "1      20002      M        0.015     0.459    0.375           0.044   \n",
       "2      20003      F        0.633     4.398   93.912          14.022   \n",
       "3      20004      F        0.030    19.652  172.925           1.123   \n",
       "4      20005      F        0.059     3.663   30.385           0.776   \n",
       "5      20006      F        0.055     4.267   13.123           0.458   \n",
       "6      20007      M        0.132     5.243    5.773          47.685   \n",
       "7      20008      F        0.172     3.228   53.745           1.347   \n",
       "8      20009      F        0.894     8.769  189.604           0.891   \n",
       "9      20010      F        0.093    18.104    3.241           1.466   \n",
       "\n",
       "   11-Deoxycortisol  androstenedion  estrone  estradiol  ...  dht  \\\n",
       "0             0.007           0.191      NaN        NaN  ...  NaN   \n",
       "1             0.016           0.106      NaN        NaN  ...  NaN   \n",
       "2             0.433           1.004      NaN        NaN  ...  NaN   \n",
       "3             0.125           0.644      NaN        NaN  ...  NaN   \n",
       "4             0.154           1.128      NaN        NaN  ...  NaN   \n",
       "5             0.084           0.563      NaN        NaN  ...  NaN   \n",
       "6             0.270           0.434      NaN        NaN  ...  NaN   \n",
       "7             0.070           1.894      NaN        NaN  ...  NaN   \n",
       "8             0.617           1.395      NaN        NaN  ...  NaN   \n",
       "9             0.036           0.132      NaN        NaN  ...  NaN   \n",
       "\n",
       "   progesterone  androsterone  pregnenolone  cortisone  21-Deoxycortisol  \\\n",
       "0         0.094         0.905         0.000        NaN               NaN   \n",
       "1         1.891         0.669         0.067        NaN               NaN   \n",
       "2        22.790         0.035         1.188        NaN               NaN   \n",
       "3         3.613         1.731         2.613        NaN               NaN   \n",
       "4         0.821        11.202         0.851        NaN               NaN   \n",
       "5         0.285         2.272         0.244        NaN               NaN   \n",
       "6         8.264         0.228         7.185        NaN               NaN   \n",
       "7         0.828         3.991         0.297        NaN               NaN   \n",
       "8         1.804         5.113         1.645        NaN               NaN   \n",
       "9         0.173         0.662         0.658        NaN               NaN   \n",
       "\n",
       "   11OHA4  11OHT          Disease  Sick  \n",
       "0     NaN    NaN  21OHD-C Disease   Yes  \n",
       "1     NaN    NaN  21OHD-C Disease   Yes  \n",
       "2     NaN    NaN  21OHD-C Disease   Yes  \n",
       "3     NaN    NaN  21OHD-C Disease   Yes  \n",
       "4     NaN    NaN  21OHD-C Disease   Yes  \n",
       "5     NaN    NaN  21OHD-C Disease   Yes  \n",
       "6     NaN    NaN  21OHD-C Disease   Yes  \n",
       "7     NaN    NaN  21OHD-C Disease   Yes  \n",
       "8     NaN    NaN  21OHD-C Disease   Yes  \n",
       "9     NaN    NaN  21OHD-C Disease   Yes  \n",
       "\n",
       "[10 rows x 25 columns]"
      ]
     },
     "execution_count": 3,
     "metadata": {},
     "output_type": "execute_result"
    }
   ],
   "source": [
    "# observing first few rows of data\n",
    "data.head(10)"
   ]
  },
  {
   "cell_type": "code",
   "execution_count": 4,
   "metadata": {},
   "outputs": [
    {
     "name": "stdout",
     "output_type": "stream",
     "text": [
      "<class 'pandas.core.frame.DataFrame'>\n",
      "RangeIndex: 1034 entries, 0 to 1033\n",
      "Data columns (total 25 columns):\n",
      "PatientID                  1034 non-null int64\n",
      "Gender                     1034 non-null object\n",
      "aldosterone                1006 non-null float64\n",
      "cortisol                   1029 non-null float64\n",
      "dheas                      1027 non-null float64\n",
      "corticosterone             1027 non-null float64\n",
      "11-Deoxycortisol           1029 non-null float64\n",
      "androstenedion             1029 non-null float64\n",
      "estrone                    0 non-null float64\n",
      "estradiol                  0 non-null float64\n",
      "11-Deoksicortikosterone    1025 non-null float64\n",
      "testosterone               1029 non-null float64\n",
      "dhea                       1029 non-null float64\n",
      "17-OH-Pregnenolone         1027 non-null float64\n",
      "17-OH-Progesterone         1027 non-null float64\n",
      "dht                        96 non-null float64\n",
      "progesterone               1027 non-null float64\n",
      "androsterone               1026 non-null float64\n",
      "pregnenolone               989 non-null float64\n",
      "cortisone                  788 non-null float64\n",
      "21-Deoxycortisol           784 non-null float64\n",
      "11OHA4                     248 non-null float64\n",
      "11OHT                      248 non-null float64\n",
      "Disease                    1034 non-null object\n",
      "Sick                       1034 non-null object\n",
      "dtypes: float64(21), int64(1), object(3)\n",
      "memory usage: 202.1+ KB\n"
     ]
    }
   ],
   "source": [
    "# gathering information on data\n",
    "data.info()"
   ]
  },
  {
   "cell_type": "code",
   "execution_count": 5,
   "metadata": {},
   "outputs": [
    {
     "data": {
      "text/plain": [
       "PatientID                  0.00\n",
       "Gender                     0.00\n",
       "aldosterone                0.03\n",
       "cortisol                   0.00\n",
       "dheas                      0.01\n",
       "corticosterone             0.01\n",
       "11-Deoxycortisol           0.00\n",
       "androstenedion             0.00\n",
       "estrone                    1.00\n",
       "estradiol                  1.00\n",
       "11-Deoksicortikosterone    0.01\n",
       "testosterone               0.00\n",
       "dhea                       0.00\n",
       "17-OH-Pregnenolone         0.01\n",
       "17-OH-Progesterone         0.01\n",
       "dht                        0.91\n",
       "progesterone               0.01\n",
       "androsterone               0.01\n",
       "pregnenolone               0.04\n",
       "cortisone                  0.24\n",
       "21-Deoxycortisol           0.24\n",
       "11OHA4                     0.76\n",
       "11OHT                      0.76\n",
       "Disease                    0.00\n",
       "Sick                       0.00\n",
       "dtype: float64"
      ]
     },
     "execution_count": 5,
     "metadata": {},
     "output_type": "execute_result"
    }
   ],
   "source": [
    "# identifying fraction of missign values in the dataset\n",
    "missing_frac = np.round(data.isnull().sum()/len(data), 2)\n",
    "missing_frac"
   ]
  },
  {
   "cell_type": "markdown",
   "metadata": {},
   "source": [
    "Few of data variables have very high fraction of missing values. We will remove all such columns from our data for preparing a Robust data model and therefore threshold for removing values is set at 0.23    "
   ]
  },
  {
   "cell_type": "code",
   "execution_count": 6,
   "metadata": {},
   "outputs": [],
   "source": [
    "del_columns = list(missing_frac[missing_frac>0.23].index)\n",
    "\n",
    "# Updating data by removing redundant columns\n",
    "required_columns = list(set(data.columns) - set(del_columns))\n",
    "data_2 = data[required_columns]"
   ]
  },
  {
   "cell_type": "markdown",
   "metadata": {},
   "source": [
    "Writing a function to update missing values in the dataset"
   ]
  },
  {
   "cell_type": "code",
   "execution_count": 7,
   "metadata": {},
   "outputs": [],
   "source": [
    "# missing values are updated with the average value calculated from other data points within the same disease category\n",
    "cleaned_data = pd.DataFrame()\n",
    "\n",
    "# creating a function to update values\n",
    "def fill_missing(data, disease_var):\n",
    "    filtered_data = data[data['Disease'] == disease_var]\n",
    "    for data_column in data.columns:\n",
    "        if filtered_data[data_column].dtypes.kind != 'O':\n",
    "            filtered_data[data_column].fillna(filtered_data[data_column].mean(), inplace = True)\n",
    "        else:\n",
    "            filtered_data[data_column].fillna(filtered_data[data_column].mode(), inplace = True)\n",
    "    return filtered_data\n",
    "\n",
    "\n",
    "for disease_category in list(data_2['Disease'].unique()):\n",
    "    interim_data = fill_missing(data_2, disease_category)\n",
    "    cleaned_data = pd.concat([cleaned_data, interim_data])"
   ]
  },
  {
   "cell_type": "code",
   "execution_count": 8,
   "metadata": {},
   "outputs": [
    {
     "data": {
      "text/plain": [
       "PatientID                  0.0\n",
       "dheas                      0.0\n",
       "11-Deoxycortisol           0.0\n",
       "androsterone               0.0\n",
       "dhea                       0.0\n",
       "testosterone               0.0\n",
       "Disease                    0.0\n",
       "17-OH-Progesterone         0.0\n",
       "aldosterone                0.0\n",
       "cortisol                   0.0\n",
       "Gender                     0.0\n",
       "17-OH-Pregnenolone         0.0\n",
       "11-Deoksicortikosterone    0.0\n",
       "androstenedion             0.0\n",
       "pregnenolone               0.0\n",
       "progesterone               0.0\n",
       "Sick                       0.0\n",
       "corticosterone             0.0\n",
       "dtype: float64"
      ]
     },
     "execution_count": 8,
     "metadata": {},
     "output_type": "execute_result"
    }
   ],
   "source": [
    "# Checking whether all missing values have been addressed now\n",
    "np.round(cleaned_data.isnull().sum()/len(cleaned_data), 2)"
   ]
  },
  {
   "cell_type": "markdown",
   "metadata": {},
   "source": [
    "After cleaning the data, next step is putting data in correct format for machine learning algorithm. String variables in the data are updated to numeric entries to be easily feed into model fitting process"
   ]
  },
  {
   "cell_type": "code",
   "execution_count": 9,
   "metadata": {},
   "outputs": [],
   "source": [
    "cleaned_data['Gender'] = cleaned_data['Gender'].map({'F':0, 'M':1})\n",
    "cleaned_data['Sick'] = cleaned_data['Sick'].map({'No':0, 'Yes':1})\n",
    "\n",
    "# setting columns in order and removing columns that are not required like Patient ID\n",
    "column_order = ['Gender', 'aldosterone', 'cortisol', 'dheas','corticosterone', '11-Deoxycortisol',\n",
    "               'androstenedion', '11-Deoksicortikosterone', 'testosterone', 'dhea', '17-OH-Pregnenolone',\n",
    "               '17-OH-Progesterone', 'progesterone', 'androsterone', 'pregnenolone','Disease', 'Sick']\n",
    "\n",
    "cleaned_data = cleaned_data[column_order]\n",
    "\n",
    "# We do not need 'Disease' column in Part A therefore dropping that column\n",
    "\n",
    "part_1 = cleaned_data.drop(['Disease'], axis = 1)\n"
   ]
  },
  {
   "cell_type": "markdown",
   "metadata": {},
   "source": [
    "Next step is preparing the Random Forest Model. \n",
    "\n",
    "Splitting data into training and testing in 80-20% ratio using stratified sampling technique."
   ]
  },
  {
   "cell_type": "code",
   "execution_count": 10,
   "metadata": {},
   "outputs": [],
   "source": [
    "train, test = train_test_split(part_1, test_size = 0.20, stratify = part_1['Sick'], random_state = 9)"
   ]
  },
  {
   "cell_type": "markdown",
   "metadata": {},
   "source": [
    "Normalizing the dataset using StandardScaler available in Scikit-Learn for data preprocessing"
   ]
  },
  {
   "cell_type": "code",
   "execution_count": 11,
   "metadata": {},
   "outputs": [],
   "source": [
    "X_train = train.iloc[:,:-1].values\n",
    "Y_train = train.iloc[:,-1].values\n",
    "\n",
    "X_test = test.iloc[:,:-1].values\n",
    "Y_test = test.iloc[:,-1].values\n",
    "\n",
    "# Normalizing data values for Random Forest Model\n",
    "norm = StandardScaler()\n",
    "X_train[:,1:] = norm.fit_transform(X_train[:,1:])\n",
    "X_test[:,1:] = norm.transform(X_test[:,1:])"
   ]
  },
  {
   "cell_type": "markdown",
   "metadata": {},
   "source": [
    "Training Random Forest Model"
   ]
  },
  {
   "cell_type": "code",
   "execution_count": 12,
   "metadata": {},
   "outputs": [
    {
     "data": {
      "text/plain": [
       "RandomForestClassifier(bootstrap=True, class_weight=None, criterion='entropy',\n",
       "                       max_depth=None, max_features='auto', max_leaf_nodes=None,\n",
       "                       min_impurity_decrease=0.0, min_impurity_split=None,\n",
       "                       min_samples_leaf=1, min_samples_split=2,\n",
       "                       min_weight_fraction_leaf=0.0, n_estimators=10,\n",
       "                       n_jobs=None, oob_score=False, random_state=0, verbose=0,\n",
       "                       warm_start=False)"
      ]
     },
     "execution_count": 12,
     "metadata": {},
     "output_type": "execute_result"
    }
   ],
   "source": [
    "# training the Random Forest model\n",
    "classifier = RandomForestClassifier(n_estimators = 10, criterion = 'entropy', random_state = 0)\n",
    "classifier.fit(X_train, Y_train)"
   ]
  },
  {
   "cell_type": "markdown",
   "metadata": {},
   "source": [
    "Generating the Confusion Matrix for test data"
   ]
  },
  {
   "cell_type": "code",
   "execution_count": 13,
   "metadata": {},
   "outputs": [
    {
     "data": {
      "text/plain": [
       "array([[138,   4],\n",
       "       [  7,  58]])"
      ]
     },
     "execution_count": 13,
     "metadata": {},
     "output_type": "execute_result"
    }
   ],
   "source": [
    "# Prediction the Test set\n",
    "y_pred = classifier.predict(X_test)\n",
    "\n",
    "# Making the Confusion Matrix\n",
    "conf_matrix = confusion_matrix(Y_test, y_pred)\n",
    "conf_matrix"
   ]
  },
  {
   "cell_type": "code",
   "execution_count": 14,
   "metadata": {},
   "outputs": [
    {
     "data": {
      "text/plain": [
       "0.9468599033816425"
      ]
     },
     "execution_count": 14,
     "metadata": {},
     "output_type": "execute_result"
    }
   ],
   "source": [
    "# Prediction Accuracy\n",
    "classifier.score(X_test, Y_test)"
   ]
  },
  {
   "cell_type": "markdown",
   "metadata": {},
   "source": [
    "Hyper Parameter Tuning using GridSearch and 10-Fold Cross Validation to identify most suitable parameters for Random Forest Model"
   ]
  },
  {
   "cell_type": "code",
   "execution_count": 15,
   "metadata": {},
   "outputs": [
    {
     "data": {
      "text/plain": [
       "0.9649334945586457"
      ]
     },
     "execution_count": 15,
     "metadata": {},
     "output_type": "execute_result"
    }
   ],
   "source": [
    "parameters = {'criterion': ['gini', 'entropy'],\n",
    "             'max_depth': [5, 10, None],\n",
    "             'max_features': ['auto', 'sqrt'],\n",
    "             'min_samples_leaf': [1, 2],\n",
    "             'min_samples_split': [2, 5],\n",
    "             'n_estimators': [5, 10, 15, 50, 75]}\n",
    "\n",
    "grid_search = GridSearchCV(estimator = classifier,\n",
    "                           param_grid = parameters,\n",
    "                           scoring = 'accuracy',\n",
    "                           cv = 10,\n",
    "                           n_jobs = -1)\n",
    "\n",
    "grid_search = grid_search.fit(X_train, Y_train)\n",
    "best_accuracy = grid_search.best_score_\n",
    "best_accuracy"
   ]
  },
  {
   "cell_type": "code",
   "execution_count": 16,
   "metadata": {},
   "outputs": [
    {
     "data": {
      "text/plain": [
       "{'criterion': 'entropy',\n",
       " 'max_depth': 10,\n",
       " 'max_features': 'auto',\n",
       " 'min_samples_leaf': 2,\n",
       " 'min_samples_split': 5,\n",
       " 'n_estimators': 50}"
      ]
     },
     "execution_count": 16,
     "metadata": {},
     "output_type": "execute_result"
    }
   ],
   "source": [
    "best_parameters = grid_search.best_params_\n",
    "best_parameters"
   ]
  },
  {
   "cell_type": "code",
   "execution_count": 23,
   "metadata": {},
   "outputs": [
    {
     "data": {
      "text/plain": [
       "array([[138,   4],\n",
       "       [  5,  60]])"
      ]
     },
     "execution_count": 23,
     "metadata": {},
     "output_type": "execute_result"
    }
   ],
   "source": [
    "# Final Model\n",
    "\n",
    "best_classifier = RandomForestClassifier(n_estimators = 50, criterion = 'entropy', max_depth=10, max_features= 'auto', min_samples_leaf= 2, min_samples_split= 5, random_state = 13)\n",
    "best_classifier.fit(X_train, Y_train)\n",
    "\n",
    "# generating test prediction\n",
    "y_pred = best_classifier.predict(X_test)\n",
    "\n",
    "# Making the Confusion Matrix\n",
    "conf_matrix = confusion_matrix(Y_test, y_pred)\n",
    "conf_matrix"
   ]
  },
  {
   "cell_type": "code",
   "execution_count": 24,
   "metadata": {},
   "outputs": [
    {
     "data": {
      "text/plain": [
       "0.9565217391304348"
      ]
     },
     "execution_count": 24,
     "metadata": {},
     "output_type": "execute_result"
    }
   ],
   "source": [
    "# Prediction Accuracy\n",
    "best_classifier.score(X_test, Y_test)"
   ]
  }
 ],
 "metadata": {
  "kernelspec": {
   "display_name": "Python 3",
   "language": "python",
   "name": "python3"
  },
  "language_info": {
   "codemirror_mode": {
    "name": "ipython",
    "version": 3
   },
   "file_extension": ".py",
   "mimetype": "text/x-python",
   "name": "python",
   "nbconvert_exporter": "python",
   "pygments_lexer": "ipython3",
   "version": "3.7.4"
  }
 },
 "nbformat": 4,
 "nbformat_minor": 2
}
